{
 "cells": [
  {
   "cell_type": "code",
   "execution_count": 1,
   "id": "f2872984",
   "metadata": {},
   "outputs": [],
   "source": [
    "import pandas as pd\n",
    "import numpy as np\n",
    "import matplotlib.pyplot as plt"
   ]
  },
  {
   "cell_type": "code",
   "execution_count": 56,
   "id": "25efaffb",
   "metadata": {},
   "outputs": [
    {
     "data": {
      "text/html": [
       "<div>\n",
       "<style scoped>\n",
       "    .dataframe tbody tr th:only-of-type {\n",
       "        vertical-align: middle;\n",
       "    }\n",
       "\n",
       "    .dataframe tbody tr th {\n",
       "        vertical-align: top;\n",
       "    }\n",
       "\n",
       "    .dataframe thead th {\n",
       "        text-align: right;\n",
       "    }\n",
       "</style>\n",
       "<table border=\"1\" class=\"dataframe\">\n",
       "  <thead>\n",
       "    <tr style=\"text-align: right;\">\n",
       "      <th></th>\n",
       "      <th>user_id</th>\n",
       "      <th>date_served</th>\n",
       "      <th>marketing_channel</th>\n",
       "      <th>variant</th>\n",
       "      <th>converted</th>\n",
       "      <th>language_displayed</th>\n",
       "      <th>language_preferred</th>\n",
       "      <th>age_group</th>\n",
       "      <th>date_subscribed</th>\n",
       "      <th>date_canceled</th>\n",
       "      <th>subscribing_channel</th>\n",
       "      <th>is_retained</th>\n",
       "    </tr>\n",
       "  </thead>\n",
       "  <tbody>\n",
       "    <tr>\n",
       "      <th>0</th>\n",
       "      <td>a100000029</td>\n",
       "      <td>2018-01-01</td>\n",
       "      <td>House Ads</td>\n",
       "      <td>personalization</td>\n",
       "      <td>True</td>\n",
       "      <td>English</td>\n",
       "      <td>English</td>\n",
       "      <td>0-18 years</td>\n",
       "      <td>2018-01-01</td>\n",
       "      <td>NaT</td>\n",
       "      <td>House Ads</td>\n",
       "      <td>True</td>\n",
       "    </tr>\n",
       "    <tr>\n",
       "      <th>1</th>\n",
       "      <td>a100000030</td>\n",
       "      <td>2018-01-01</td>\n",
       "      <td>House Ads</td>\n",
       "      <td>personalization</td>\n",
       "      <td>True</td>\n",
       "      <td>English</td>\n",
       "      <td>English</td>\n",
       "      <td>19-24 years</td>\n",
       "      <td>2018-01-01</td>\n",
       "      <td>NaT</td>\n",
       "      <td>House Ads</td>\n",
       "      <td>True</td>\n",
       "    </tr>\n",
       "    <tr>\n",
       "      <th>2</th>\n",
       "      <td>a100000031</td>\n",
       "      <td>2018-01-01</td>\n",
       "      <td>House Ads</td>\n",
       "      <td>personalization</td>\n",
       "      <td>True</td>\n",
       "      <td>English</td>\n",
       "      <td>English</td>\n",
       "      <td>24-30 years</td>\n",
       "      <td>2018-01-01</td>\n",
       "      <td>NaT</td>\n",
       "      <td>House Ads</td>\n",
       "      <td>True</td>\n",
       "    </tr>\n",
       "    <tr>\n",
       "      <th>3</th>\n",
       "      <td>a100000032</td>\n",
       "      <td>2018-01-01</td>\n",
       "      <td>House Ads</td>\n",
       "      <td>personalization</td>\n",
       "      <td>True</td>\n",
       "      <td>English</td>\n",
       "      <td>English</td>\n",
       "      <td>30-36 years</td>\n",
       "      <td>2018-01-01</td>\n",
       "      <td>NaT</td>\n",
       "      <td>House Ads</td>\n",
       "      <td>True</td>\n",
       "    </tr>\n",
       "    <tr>\n",
       "      <th>4</th>\n",
       "      <td>a100000033</td>\n",
       "      <td>2018-01-01</td>\n",
       "      <td>House Ads</td>\n",
       "      <td>personalization</td>\n",
       "      <td>True</td>\n",
       "      <td>English</td>\n",
       "      <td>English</td>\n",
       "      <td>36-45 years</td>\n",
       "      <td>2018-01-01</td>\n",
       "      <td>NaT</td>\n",
       "      <td>House Ads</td>\n",
       "      <td>True</td>\n",
       "    </tr>\n",
       "  </tbody>\n",
       "</table>\n",
       "</div>"
      ],
      "text/plain": [
       "      user_id date_served marketing_channel          variant converted  \\\n",
       "0  a100000029  2018-01-01         House Ads  personalization      True   \n",
       "1  a100000030  2018-01-01         House Ads  personalization      True   \n",
       "2  a100000031  2018-01-01         House Ads  personalization      True   \n",
       "3  a100000032  2018-01-01         House Ads  personalization      True   \n",
       "4  a100000033  2018-01-01         House Ads  personalization      True   \n",
       "\n",
       "  language_displayed language_preferred    age_group date_subscribed  \\\n",
       "0            English            English   0-18 years      2018-01-01   \n",
       "1            English            English  19-24 years      2018-01-01   \n",
       "2            English            English  24-30 years      2018-01-01   \n",
       "3            English            English  30-36 years      2018-01-01   \n",
       "4            English            English  36-45 years      2018-01-01   \n",
       "\n",
       "  date_canceled subscribing_channel is_retained  \n",
       "0           NaT           House Ads        True  \n",
       "1           NaT           House Ads        True  \n",
       "2           NaT           House Ads        True  \n",
       "3           NaT           House Ads        True  \n",
       "4           NaT           House Ads        True  "
      ]
     },
     "execution_count": 56,
     "metadata": {},
     "output_type": "execute_result"
    }
   ],
   "source": [
    "#marketing = pd.read_csv('C://Users//user//NOTEBOOKS//Datasets//marketing.csv')\n",
    "marketing = pd.read_csv(r'C:\\Users\\user\\NOTEBOOKS\\Datasets\\marketing.csv', parse_dates=['date_served','date_subscribed','date_canceled'])\n",
    "marketing.head()"
   ]
  },
  {
   "cell_type": "code",
   "execution_count": 60,
   "id": "291d9add",
   "metadata": {},
   "outputs": [
    {
     "name": "stdout",
     "output_type": "stream",
     "text": [
      "           user_id date_served marketing_channel  variant converted  \\\n",
      "count        10037       10021             10022    10037     10022   \n",
      "unique        7309          31                 5        2         2   \n",
      "top     a100000882     1/15/18         House Ads  control     False   \n",
      "freq            12         789              4733     5091      8946   \n",
      "\n",
      "       language_displayed language_preferred    age_group date_subscribed  \\\n",
      "count               10037              10037        10037            1856   \n",
      "unique                  4                  4            7              31   \n",
      "top               English            English  19-24 years         1/16/18   \n",
      "freq                 9793               9275         1682             163   \n",
      "\n",
      "       date_canceled subscribing_channel is_retained  \n",
      "count            577                1856        1856  \n",
      "unique           115                   5           2  \n",
      "top           4/2/18           Instagram        True  \n",
      "freq              15                 600        1279  \n"
     ]
    }
   ],
   "source": [
    "# Print the statistics of all columns\n",
    "print(marketing.describe())"
   ]
  },
  {
   "cell_type": "code",
   "execution_count": 61,
   "id": "f83e11d6",
   "metadata": {},
   "outputs": [
    {
     "name": "stdout",
     "output_type": "stream",
     "text": [
      "<class 'pandas.core.frame.DataFrame'>\n",
      "RangeIndex: 10037 entries, 0 to 10036\n",
      "Data columns (total 12 columns):\n",
      " #   Column               Non-Null Count  Dtype \n",
      "---  ------               --------------  ----- \n",
      " 0   user_id              10037 non-null  object\n",
      " 1   date_served          10021 non-null  object\n",
      " 2   marketing_channel    10022 non-null  object\n",
      " 3   variant              10037 non-null  object\n",
      " 4   converted            10022 non-null  object\n",
      " 5   language_displayed   10037 non-null  object\n",
      " 6   language_preferred   10037 non-null  object\n",
      " 7   age_group            10037 non-null  object\n",
      " 8   date_subscribed      1856 non-null   object\n",
      " 9   date_canceled        577 non-null    object\n",
      " 10  subscribing_channel  1856 non-null   object\n",
      " 11  is_retained          1856 non-null   object\n",
      "dtypes: object(12)\n",
      "memory usage: 941.1+ KB\n",
      "None\n"
     ]
    }
   ],
   "source": [
    "# Check column data types and non-missing values\n",
    "print(marketing.info())"
   ]
  },
  {
   "cell_type": "markdown",
   "id": "2c2e93a8",
   "metadata": {},
   "source": [
    "### Data Cleaning: Analysing individual columns & fixing data types"
   ]
  },
  {
   "cell_type": "markdown",
   "id": "7ab74dc7",
   "metadata": {},
   "source": [
    "#### Missing values distribution"
   ]
  },
  {
   "cell_type": "code",
   "execution_count": 62,
   "id": "6422d24e",
   "metadata": {},
   "outputs": [
    {
     "name": "stdout",
     "output_type": "stream",
     "text": [
      "date_canceled          9460\n",
      "date_subscribed        8181\n",
      "subscribing_channel    8181\n",
      "is_retained            8181\n",
      "date_served              16\n",
      "marketing_channel        15\n",
      "converted                15\n",
      "user_id                   0\n",
      "variant                   0\n",
      "language_displayed        0\n",
      "language_preferred        0\n",
      "age_group                 0\n",
      "dtype: int64\n"
     ]
    }
   ],
   "source": [
    "#Mask all values that are NaN as True\n",
    "#compute the mean of Boolean mask (True evaluates as 1 and False as 0)\n",
    "res = marketing.isnull().sum().sort_values(ascending=False)\n",
    "print(res)"
   ]
  },
  {
   "cell_type": "markdown",
   "id": "2771b9c2",
   "metadata": {},
   "source": [
    "##### User ID"
   ]
  },
  {
   "cell_type": "code",
   "execution_count": 6,
   "id": "c2a1b07c",
   "metadata": {},
   "outputs": [
    {
     "data": {
      "text/plain": [
       "array([10,  9], dtype=int64)"
      ]
     },
     "execution_count": 6,
     "metadata": {},
     "output_type": "execute_result"
    }
   ],
   "source": [
    "# check the lengths of user id\n",
    "id_len = marketing['user_id'].apply(len).unique()\n",
    "id_len  # lengths: 9 or 10"
   ]
  },
  {
   "cell_type": "code",
   "execution_count": 7,
   "id": "c09b3045",
   "metadata": {},
   "outputs": [
    {
     "data": {
      "text/plain": [
       "array(['a'], dtype=object)"
      ]
     },
     "execution_count": 7,
     "metadata": {},
     "output_type": "execute_result"
    }
   ],
   "source": [
    "# To check if all ids start with 'a'\n",
    "user_check = marketing['user_id'].str[0].unique()\n",
    "user_check"
   ]
  },
  {
   "cell_type": "markdown",
   "id": "8e3f94a4",
   "metadata": {},
   "source": [
    "##### Date Served"
   ]
  },
  {
   "cell_type": "code",
   "execution_count": 65,
   "id": "996431d6",
   "metadata": {},
   "outputs": [
    {
     "data": {
      "text/html": [
       "<div>\n",
       "<style scoped>\n",
       "    .dataframe tbody tr th:only-of-type {\n",
       "        vertical-align: middle;\n",
       "    }\n",
       "\n",
       "    .dataframe tbody tr th {\n",
       "        vertical-align: top;\n",
       "    }\n",
       "\n",
       "    .dataframe thead th {\n",
       "        text-align: right;\n",
       "    }\n",
       "</style>\n",
       "<table border=\"1\" class=\"dataframe\">\n",
       "  <thead>\n",
       "    <tr style=\"text-align: right;\">\n",
       "      <th></th>\n",
       "      <th>user_id</th>\n",
       "      <th>date_served</th>\n",
       "      <th>marketing_channel</th>\n",
       "      <th>variant</th>\n",
       "      <th>converted</th>\n",
       "      <th>language_displayed</th>\n",
       "      <th>language_preferred</th>\n",
       "      <th>age_group</th>\n",
       "      <th>date_subscribed</th>\n",
       "      <th>date_canceled</th>\n",
       "      <th>subscribing_channel</th>\n",
       "      <th>is_retained</th>\n",
       "    </tr>\n",
       "  </thead>\n",
       "  <tbody>\n",
       "    <tr>\n",
       "      <th>7038</th>\n",
       "      <td>a100004504</td>\n",
       "      <td>NaT</td>\n",
       "      <td>House Ads</td>\n",
       "      <td>personalization</td>\n",
       "      <td>False</td>\n",
       "      <td>English</td>\n",
       "      <td>English</td>\n",
       "      <td>19-24 years</td>\n",
       "      <td>NaN</td>\n",
       "      <td>NaN</td>\n",
       "      <td>NaN</td>\n",
       "      <td>NaN</td>\n",
       "    </tr>\n",
       "    <tr>\n",
       "      <th>9944</th>\n",
       "      <td>a10009231</td>\n",
       "      <td>NaT</td>\n",
       "      <td>NaN</td>\n",
       "      <td>control</td>\n",
       "      <td>NaN</td>\n",
       "      <td>English</td>\n",
       "      <td>English</td>\n",
       "      <td>19-24 years</td>\n",
       "      <td>NaN</td>\n",
       "      <td>NaN</td>\n",
       "      <td>NaN</td>\n",
       "      <td>NaN</td>\n",
       "    </tr>\n",
       "    <tr>\n",
       "      <th>9945</th>\n",
       "      <td>a10009232</td>\n",
       "      <td>NaT</td>\n",
       "      <td>NaN</td>\n",
       "      <td>control</td>\n",
       "      <td>NaN</td>\n",
       "      <td>English</td>\n",
       "      <td>English</td>\n",
       "      <td>24-30 years</td>\n",
       "      <td>NaN</td>\n",
       "      <td>NaN</td>\n",
       "      <td>NaN</td>\n",
       "      <td>NaN</td>\n",
       "    </tr>\n",
       "    <tr>\n",
       "      <th>9946</th>\n",
       "      <td>a10009233</td>\n",
       "      <td>NaT</td>\n",
       "      <td>NaN</td>\n",
       "      <td>control</td>\n",
       "      <td>NaN</td>\n",
       "      <td>English</td>\n",
       "      <td>English</td>\n",
       "      <td>30-36 years</td>\n",
       "      <td>NaN</td>\n",
       "      <td>NaN</td>\n",
       "      <td>NaN</td>\n",
       "      <td>NaN</td>\n",
       "    </tr>\n",
       "    <tr>\n",
       "      <th>9947</th>\n",
       "      <td>a10009234</td>\n",
       "      <td>NaT</td>\n",
       "      <td>NaN</td>\n",
       "      <td>control</td>\n",
       "      <td>NaN</td>\n",
       "      <td>English</td>\n",
       "      <td>English</td>\n",
       "      <td>36-45 years</td>\n",
       "      <td>NaN</td>\n",
       "      <td>NaN</td>\n",
       "      <td>NaN</td>\n",
       "      <td>NaN</td>\n",
       "    </tr>\n",
       "    <tr>\n",
       "      <th>9948</th>\n",
       "      <td>a10009235</td>\n",
       "      <td>NaT</td>\n",
       "      <td>NaN</td>\n",
       "      <td>control</td>\n",
       "      <td>NaN</td>\n",
       "      <td>English</td>\n",
       "      <td>English</td>\n",
       "      <td>45-55 years</td>\n",
       "      <td>NaN</td>\n",
       "      <td>NaN</td>\n",
       "      <td>NaN</td>\n",
       "      <td>NaN</td>\n",
       "    </tr>\n",
       "    <tr>\n",
       "      <th>9949</th>\n",
       "      <td>a10009236</td>\n",
       "      <td>NaT</td>\n",
       "      <td>NaN</td>\n",
       "      <td>control</td>\n",
       "      <td>NaN</td>\n",
       "      <td>English</td>\n",
       "      <td>English</td>\n",
       "      <td>55+ years</td>\n",
       "      <td>NaN</td>\n",
       "      <td>NaN</td>\n",
       "      <td>NaN</td>\n",
       "      <td>NaN</td>\n",
       "    </tr>\n",
       "    <tr>\n",
       "      <th>9950</th>\n",
       "      <td>a10009237</td>\n",
       "      <td>NaT</td>\n",
       "      <td>NaN</td>\n",
       "      <td>control</td>\n",
       "      <td>NaN</td>\n",
       "      <td>English</td>\n",
       "      <td>English</td>\n",
       "      <td>0-18 years</td>\n",
       "      <td>NaN</td>\n",
       "      <td>NaN</td>\n",
       "      <td>NaN</td>\n",
       "      <td>NaN</td>\n",
       "    </tr>\n",
       "    <tr>\n",
       "      <th>9951</th>\n",
       "      <td>a10009238</td>\n",
       "      <td>NaT</td>\n",
       "      <td>NaN</td>\n",
       "      <td>control</td>\n",
       "      <td>NaN</td>\n",
       "      <td>English</td>\n",
       "      <td>English</td>\n",
       "      <td>19-24 years</td>\n",
       "      <td>NaN</td>\n",
       "      <td>NaN</td>\n",
       "      <td>NaN</td>\n",
       "      <td>NaN</td>\n",
       "    </tr>\n",
       "    <tr>\n",
       "      <th>9952</th>\n",
       "      <td>a10009239</td>\n",
       "      <td>NaT</td>\n",
       "      <td>NaN</td>\n",
       "      <td>control</td>\n",
       "      <td>NaN</td>\n",
       "      <td>English</td>\n",
       "      <td>English</td>\n",
       "      <td>24-30 years</td>\n",
       "      <td>NaN</td>\n",
       "      <td>NaN</td>\n",
       "      <td>NaN</td>\n",
       "      <td>NaN</td>\n",
       "    </tr>\n",
       "    <tr>\n",
       "      <th>9953</th>\n",
       "      <td>a10009240</td>\n",
       "      <td>NaT</td>\n",
       "      <td>NaN</td>\n",
       "      <td>control</td>\n",
       "      <td>NaN</td>\n",
       "      <td>English</td>\n",
       "      <td>English</td>\n",
       "      <td>30-36 years</td>\n",
       "      <td>NaN</td>\n",
       "      <td>NaN</td>\n",
       "      <td>NaN</td>\n",
       "      <td>NaN</td>\n",
       "    </tr>\n",
       "    <tr>\n",
       "      <th>9954</th>\n",
       "      <td>a10009241</td>\n",
       "      <td>NaT</td>\n",
       "      <td>NaN</td>\n",
       "      <td>control</td>\n",
       "      <td>NaN</td>\n",
       "      <td>English</td>\n",
       "      <td>English</td>\n",
       "      <td>36-45 years</td>\n",
       "      <td>NaN</td>\n",
       "      <td>NaN</td>\n",
       "      <td>NaN</td>\n",
       "      <td>NaN</td>\n",
       "    </tr>\n",
       "    <tr>\n",
       "      <th>9955</th>\n",
       "      <td>a10009242</td>\n",
       "      <td>NaT</td>\n",
       "      <td>NaN</td>\n",
       "      <td>control</td>\n",
       "      <td>NaN</td>\n",
       "      <td>English</td>\n",
       "      <td>English</td>\n",
       "      <td>45-55 years</td>\n",
       "      <td>NaN</td>\n",
       "      <td>NaN</td>\n",
       "      <td>NaN</td>\n",
       "      <td>NaN</td>\n",
       "    </tr>\n",
       "    <tr>\n",
       "      <th>9956</th>\n",
       "      <td>a10009243</td>\n",
       "      <td>NaT</td>\n",
       "      <td>NaN</td>\n",
       "      <td>control</td>\n",
       "      <td>NaN</td>\n",
       "      <td>English</td>\n",
       "      <td>English</td>\n",
       "      <td>55+ years</td>\n",
       "      <td>NaN</td>\n",
       "      <td>NaN</td>\n",
       "      <td>NaN</td>\n",
       "      <td>NaN</td>\n",
       "    </tr>\n",
       "    <tr>\n",
       "      <th>9957</th>\n",
       "      <td>a10009244</td>\n",
       "      <td>NaT</td>\n",
       "      <td>NaN</td>\n",
       "      <td>control</td>\n",
       "      <td>NaN</td>\n",
       "      <td>English</td>\n",
       "      <td>English</td>\n",
       "      <td>0-18 years</td>\n",
       "      <td>NaN</td>\n",
       "      <td>NaN</td>\n",
       "      <td>NaN</td>\n",
       "      <td>NaN</td>\n",
       "    </tr>\n",
       "    <tr>\n",
       "      <th>9958</th>\n",
       "      <td>a10009245</td>\n",
       "      <td>NaT</td>\n",
       "      <td>NaN</td>\n",
       "      <td>control</td>\n",
       "      <td>NaN</td>\n",
       "      <td>English</td>\n",
       "      <td>English</td>\n",
       "      <td>19-24 years</td>\n",
       "      <td>NaN</td>\n",
       "      <td>NaN</td>\n",
       "      <td>NaN</td>\n",
       "      <td>NaN</td>\n",
       "    </tr>\n",
       "  </tbody>\n",
       "</table>\n",
       "</div>"
      ],
      "text/plain": [
       "         user_id date_served marketing_channel          variant converted  \\\n",
       "7038  a100004504         NaT         House Ads  personalization     False   \n",
       "9944   a10009231         NaT               NaN          control       NaN   \n",
       "9945   a10009232         NaT               NaN          control       NaN   \n",
       "9946   a10009233         NaT               NaN          control       NaN   \n",
       "9947   a10009234         NaT               NaN          control       NaN   \n",
       "9948   a10009235         NaT               NaN          control       NaN   \n",
       "9949   a10009236         NaT               NaN          control       NaN   \n",
       "9950   a10009237         NaT               NaN          control       NaN   \n",
       "9951   a10009238         NaT               NaN          control       NaN   \n",
       "9952   a10009239         NaT               NaN          control       NaN   \n",
       "9953   a10009240         NaT               NaN          control       NaN   \n",
       "9954   a10009241         NaT               NaN          control       NaN   \n",
       "9955   a10009242         NaT               NaN          control       NaN   \n",
       "9956   a10009243         NaT               NaN          control       NaN   \n",
       "9957   a10009244         NaT               NaN          control       NaN   \n",
       "9958   a10009245         NaT               NaN          control       NaN   \n",
       "\n",
       "     language_displayed language_preferred    age_group date_subscribed  \\\n",
       "7038            English            English  19-24 years             NaN   \n",
       "9944            English            English  19-24 years             NaN   \n",
       "9945            English            English  24-30 years             NaN   \n",
       "9946            English            English  30-36 years             NaN   \n",
       "9947            English            English  36-45 years             NaN   \n",
       "9948            English            English  45-55 years             NaN   \n",
       "9949            English            English    55+ years             NaN   \n",
       "9950            English            English   0-18 years             NaN   \n",
       "9951            English            English  19-24 years             NaN   \n",
       "9952            English            English  24-30 years             NaN   \n",
       "9953            English            English  30-36 years             NaN   \n",
       "9954            English            English  36-45 years             NaN   \n",
       "9955            English            English  45-55 years             NaN   \n",
       "9956            English            English    55+ years             NaN   \n",
       "9957            English            English   0-18 years             NaN   \n",
       "9958            English            English  19-24 years             NaN   \n",
       "\n",
       "     date_canceled subscribing_channel is_retained  \n",
       "7038           NaN                 NaN         NaN  \n",
       "9944           NaN                 NaN         NaN  \n",
       "9945           NaN                 NaN         NaN  \n",
       "9946           NaN                 NaN         NaN  \n",
       "9947           NaN                 NaN         NaN  \n",
       "9948           NaN                 NaN         NaN  \n",
       "9949           NaN                 NaN         NaN  \n",
       "9950           NaN                 NaN         NaN  \n",
       "9951           NaN                 NaN         NaN  \n",
       "9952           NaN                 NaN         NaN  \n",
       "9953           NaN                 NaN         NaN  \n",
       "9954           NaN                 NaN         NaN  \n",
       "9955           NaN                 NaN         NaN  \n",
       "9956           NaN                 NaN         NaN  \n",
       "9957           NaN                 NaN         NaN  \n",
       "9958           NaN                 NaN         NaN  "
      ]
     },
     "execution_count": 65,
     "metadata": {},
     "output_type": "execute_result"
    }
   ],
   "source": [
    "# check rows where date_served is null\n",
    "marketing.loc[marketing['date_served'].isnull()]"
   ]
  },
  {
   "cell_type": "markdown",
   "id": "92264d10",
   "metadata": {},
   "source": [
    "##### is_retained and converted"
   ]
  },
  {
   "cell_type": "code",
   "execution_count": 8,
   "id": "e145daec",
   "metadata": {},
   "outputs": [
    {
     "name": "stdout",
     "output_type": "stream",
     "text": [
      "object\n"
     ]
    }
   ],
   "source": [
    "# Check the data type of is_retained\n",
    "print(marketing['is_retained'].dtype)"
   ]
  },
  {
   "cell_type": "code",
   "execution_count": 39,
   "id": "41cce7c6",
   "metadata": {},
   "outputs": [],
   "source": [
    "marketing['converted']=marketing['converted'].replace(to_replace=[\"True\",\"False\"],value=[1,0]).astype('float64')\n",
    "marketing['is_retained']=marketing['is_retained'].replace(to_replace=[\"True\",\"False\"], value=[1,0]).astype('float64')\n",
    "#could not be converted to int due to null values"
   ]
  },
  {
   "cell_type": "markdown",
   "id": "a28dc2f6",
   "metadata": {},
   "source": [
    "##### Age group"
   ]
  },
  {
   "cell_type": "code",
   "execution_count": 10,
   "id": "f9fa858d",
   "metadata": {},
   "outputs": [
    {
     "data": {
      "text/plain": [
       "19-24 years    1682\n",
       "24-30 years    1568\n",
       "0-18 years     1539\n",
       "30-36 years    1355\n",
       "36-45 years    1353\n",
       "45-55 years    1353\n",
       "55+ years      1187\n",
       "Name: age_group, dtype: int64"
      ]
     },
     "execution_count": 10,
     "metadata": {},
     "output_type": "execute_result"
    }
   ],
   "source": [
    "marketing['age_group'].value_counts()"
   ]
  },
  {
   "cell_type": "code",
   "execution_count": 11,
   "id": "08aa7b7c",
   "metadata": {},
   "outputs": [
    {
     "data": {
      "text/plain": [
       "array(['0-18', '19-24', '24-30', '30-36', '36-45', '45-55', '55+'],\n",
       "      dtype=object)"
      ]
     },
     "execution_count": 11,
     "metadata": {},
     "output_type": "execute_result"
    }
   ],
   "source": [
    "#marketing['age_group'] = marketing['age_group'].replace(\" years\",\"\", regex=True)\n",
    "marketing['age_group'] = marketing['age_group'].str.replace(\" years\",\"\")   # works best for pattern replcament\n",
    "marketing['age_group'].unique()"
   ]
  },
  {
   "cell_type": "markdown",
   "id": "59c218df",
   "metadata": {},
   "source": [
    "##### Marketing Channel"
   ]
  },
  {
   "cell_type": "code",
   "execution_count": 12,
   "id": "488934b9",
   "metadata": {},
   "outputs": [
    {
     "data": {
      "text/plain": [
       "House Ads    4733\n",
       "Instagram    1871\n",
       "Facebook     1860\n",
       "Push          993\n",
       "Email         565\n",
       "Name: marketing_channel, dtype: int64"
      ]
     },
     "execution_count": 12,
     "metadata": {},
     "output_type": "execute_result"
    }
   ],
   "source": [
    "marketing['marketing_channel'].value_counts()"
   ]
  },
  {
   "cell_type": "markdown",
   "id": "0a60d473",
   "metadata": {},
   "source": [
    "##### Variant"
   ]
  },
  {
   "cell_type": "code",
   "execution_count": 13,
   "id": "eda47af2",
   "metadata": {},
   "outputs": [
    {
     "data": {
      "text/plain": [
       "control            5091\n",
       "personalization    4946\n",
       "Name: variant, dtype: int64"
      ]
     },
     "execution_count": 13,
     "metadata": {},
     "output_type": "execute_result"
    }
   ],
   "source": [
    "marketing['variant'].value_counts()"
   ]
  },
  {
   "cell_type": "markdown",
   "id": "5c08bbc4",
   "metadata": {},
   "source": [
    "#### language displayed & language preferred"
   ]
  },
  {
   "cell_type": "code",
   "execution_count": 14,
   "id": "a8aa6457",
   "metadata": {},
   "outputs": [
    {
     "data": {
      "text/plain": [
       "English    9793\n",
       "Spanish     136\n",
       "German       81\n",
       "Arabic       27\n",
       "Name: language_displayed, dtype: int64"
      ]
     },
     "execution_count": 14,
     "metadata": {},
     "output_type": "execute_result"
    }
   ],
   "source": [
    "marketing['language_displayed'].value_counts()"
   ]
  },
  {
   "cell_type": "code",
   "execution_count": 15,
   "id": "e09ee4e5",
   "metadata": {},
   "outputs": [
    {
     "data": {
      "text/plain": [
       "English    9275\n",
       "Spanish     450\n",
       "German      167\n",
       "Arabic      145\n",
       "Name: language_preferred, dtype: int64"
      ]
     },
     "execution_count": 15,
     "metadata": {},
     "output_type": "execute_result"
    }
   ],
   "source": [
    "marketing['language_preferred'].value_counts()"
   ]
  },
  {
   "cell_type": "markdown",
   "id": "d7b939a0",
   "metadata": {},
   "source": [
    "#### Adding new columns"
   ]
  },
  {
   "cell_type": "markdown",
   "id": "5c416c55",
   "metadata": {},
   "source": [
    "Adding new columns that derive information from existing data or based on domain knowledge is known as Feature Engineering."
   ]
  },
  {
   "cell_type": "code",
   "execution_count": 16,
   "id": "3d854fb4",
   "metadata": {},
   "outputs": [],
   "source": [
    "# Mapping for channels\n",
    "channel_dict = {\"House Ads\": 1, \"Instagram\": 2, \n",
    "                \"Facebook\": 3, \"Email\": 4, \"Push\": 5}\n",
    "\n",
    "# Map the channel to a channel code\n",
    "marketing['channel_code'] = marketing['subscribing_channel'].map(channel_dict)"
   ]
  },
  {
   "cell_type": "markdown",
   "id": "4e4b3c40",
   "metadata": {},
   "source": [
    "Adding new columns that derive information from existing data or based on domain knowledge is known as Feature Engineering. "
   ]
  },
  {
   "cell_type": "code",
   "execution_count": 17,
   "id": "df215f6b",
   "metadata": {},
   "outputs": [],
   "source": [
    "# Add the new column is_correct_lang\n",
    "marketing['is_correct_lang'] = np.where(marketing['language_preferred'] == marketing['language_displayed'], True, False)"
   ]
  },
  {
   "cell_type": "code",
   "execution_count": 19,
   "id": "66479790",
   "metadata": {},
   "outputs": [
    {
     "data": {
      "text/html": [
       "<div>\n",
       "<style scoped>\n",
       "    .dataframe tbody tr th:only-of-type {\n",
       "        vertical-align: middle;\n",
       "    }\n",
       "\n",
       "    .dataframe tbody tr th {\n",
       "        vertical-align: top;\n",
       "    }\n",
       "\n",
       "    .dataframe thead th {\n",
       "        text-align: right;\n",
       "    }\n",
       "</style>\n",
       "<table border=\"1\" class=\"dataframe\">\n",
       "  <thead>\n",
       "    <tr style=\"text-align: right;\">\n",
       "      <th></th>\n",
       "      <th>user_id</th>\n",
       "      <th>date_served</th>\n",
       "      <th>marketing_channel</th>\n",
       "      <th>variant</th>\n",
       "      <th>converted</th>\n",
       "      <th>language_displayed</th>\n",
       "      <th>language_preferred</th>\n",
       "      <th>age_group</th>\n",
       "      <th>date_subscribed</th>\n",
       "      <th>date_canceled</th>\n",
       "      <th>subscribing_channel</th>\n",
       "      <th>is_retained</th>\n",
       "      <th>channel_code</th>\n",
       "      <th>is_correct_lang</th>\n",
       "    </tr>\n",
       "  </thead>\n",
       "  <tbody>\n",
       "    <tr>\n",
       "      <th>0</th>\n",
       "      <td>a100000029</td>\n",
       "      <td>2018-01-01</td>\n",
       "      <td>House Ads</td>\n",
       "      <td>personalization</td>\n",
       "      <td>True</td>\n",
       "      <td>English</td>\n",
       "      <td>English</td>\n",
       "      <td>0-18</td>\n",
       "      <td>2018-01-01</td>\n",
       "      <td>NaT</td>\n",
       "      <td>House Ads</td>\n",
       "      <td>True</td>\n",
       "      <td>1.0</td>\n",
       "      <td>True</td>\n",
       "    </tr>\n",
       "    <tr>\n",
       "      <th>1</th>\n",
       "      <td>a100000030</td>\n",
       "      <td>2018-01-01</td>\n",
       "      <td>House Ads</td>\n",
       "      <td>personalization</td>\n",
       "      <td>True</td>\n",
       "      <td>English</td>\n",
       "      <td>English</td>\n",
       "      <td>19-24</td>\n",
       "      <td>2018-01-01</td>\n",
       "      <td>NaT</td>\n",
       "      <td>House Ads</td>\n",
       "      <td>True</td>\n",
       "      <td>1.0</td>\n",
       "      <td>True</td>\n",
       "    </tr>\n",
       "    <tr>\n",
       "      <th>2</th>\n",
       "      <td>a100000031</td>\n",
       "      <td>2018-01-01</td>\n",
       "      <td>House Ads</td>\n",
       "      <td>personalization</td>\n",
       "      <td>True</td>\n",
       "      <td>English</td>\n",
       "      <td>English</td>\n",
       "      <td>24-30</td>\n",
       "      <td>2018-01-01</td>\n",
       "      <td>NaT</td>\n",
       "      <td>House Ads</td>\n",
       "      <td>True</td>\n",
       "      <td>1.0</td>\n",
       "      <td>True</td>\n",
       "    </tr>\n",
       "    <tr>\n",
       "      <th>3</th>\n",
       "      <td>a100000032</td>\n",
       "      <td>2018-01-01</td>\n",
       "      <td>House Ads</td>\n",
       "      <td>personalization</td>\n",
       "      <td>True</td>\n",
       "      <td>English</td>\n",
       "      <td>English</td>\n",
       "      <td>30-36</td>\n",
       "      <td>2018-01-01</td>\n",
       "      <td>NaT</td>\n",
       "      <td>House Ads</td>\n",
       "      <td>True</td>\n",
       "      <td>1.0</td>\n",
       "      <td>True</td>\n",
       "    </tr>\n",
       "    <tr>\n",
       "      <th>4</th>\n",
       "      <td>a100000033</td>\n",
       "      <td>2018-01-01</td>\n",
       "      <td>House Ads</td>\n",
       "      <td>personalization</td>\n",
       "      <td>True</td>\n",
       "      <td>English</td>\n",
       "      <td>English</td>\n",
       "      <td>36-45</td>\n",
       "      <td>2018-01-01</td>\n",
       "      <td>NaT</td>\n",
       "      <td>House Ads</td>\n",
       "      <td>True</td>\n",
       "      <td>1.0</td>\n",
       "      <td>True</td>\n",
       "    </tr>\n",
       "  </tbody>\n",
       "</table>\n",
       "</div>"
      ],
      "text/plain": [
       "      user_id date_served marketing_channel          variant  converted  \\\n",
       "0  a100000029  2018-01-01         House Ads  personalization       True   \n",
       "1  a100000030  2018-01-01         House Ads  personalization       True   \n",
       "2  a100000031  2018-01-01         House Ads  personalization       True   \n",
       "3  a100000032  2018-01-01         House Ads  personalization       True   \n",
       "4  a100000033  2018-01-01         House Ads  personalization       True   \n",
       "\n",
       "  language_displayed language_preferred age_group date_subscribed  \\\n",
       "0            English            English      0-18      2018-01-01   \n",
       "1            English            English     19-24      2018-01-01   \n",
       "2            English            English     24-30      2018-01-01   \n",
       "3            English            English     30-36      2018-01-01   \n",
       "4            English            English     36-45      2018-01-01   \n",
       "\n",
       "  date_canceled subscribing_channel  is_retained  channel_code  \\\n",
       "0           NaT           House Ads         True           1.0   \n",
       "1           NaT           House Ads         True           1.0   \n",
       "2           NaT           House Ads         True           1.0   \n",
       "3           NaT           House Ads         True           1.0   \n",
       "4           NaT           House Ads         True           1.0   \n",
       "\n",
       "   is_correct_lang  \n",
       "0             True  \n",
       "1             True  \n",
       "2             True  \n",
       "3             True  \n",
       "4             True  "
      ]
     },
     "execution_count": 19,
     "metadata": {},
     "output_type": "execute_result"
    }
   ],
   "source": [
    "marketing.head()"
   ]
  },
  {
   "cell_type": "markdown",
   "id": "5c7d0139",
   "metadata": {},
   "source": [
    "#### Date columns"
   ]
  },
  {
   "cell_type": "code",
   "execution_count": 21,
   "id": "665129f2",
   "metadata": {},
   "outputs": [
    {
     "data": {
      "text/plain": [
       "0        0.0\n",
       "1        0.0\n",
       "2        0.0\n",
       "3        0.0\n",
       "4        0.0\n",
       "        ... \n",
       "10032    2.0\n",
       "10033    2.0\n",
       "10034    2.0\n",
       "10035    2.0\n",
       "10036    2.0\n",
       "Name: DoW, Length: 10037, dtype: float64"
      ]
     },
     "execution_count": 21,
     "metadata": {},
     "output_type": "execute_result"
    }
   ],
   "source": [
    "# Add a DoW column\n",
    "# 0 stands for Monday \n",
    "marketing['DoW'] = marketing['date_subscribed'].dt.dayofweek\n",
    "marketing['DoW']\n",
    "1e"
   ]
  },
  {
   "cell_type": "code",
   "execution_count": 5,
   "id": "ed6a4125",
   "metadata": {},
   "outputs": [
    {
     "name": "stdout",
     "output_type": "stream",
     "text": [
      "<class 'pandas.core.frame.DataFrame'>\n",
      "RangeIndex: 10037 entries, 0 to 10036\n",
      "Data columns (total 13 columns):\n",
      " #   Column               Non-Null Count  Dtype         \n",
      "---  ------               --------------  -----         \n",
      " 0   user_id              10037 non-null  object        \n",
      " 1   date_served          10021 non-null  datetime64[ns]\n",
      " 2   marketing_channel    10022 non-null  object        \n",
      " 3   variant              10037 non-null  object        \n",
      " 4   converted            10022 non-null  object        \n",
      " 5   language_displayed   10037 non-null  object        \n",
      " 6   language_preferred   10037 non-null  object        \n",
      " 7   age_group            10037 non-null  object        \n",
      " 8   date_subscribed      1856 non-null   datetime64[ns]\n",
      " 9   date_canceled        577 non-null    datetime64[ns]\n",
      " 10  subscribing_channel  1856 non-null   object        \n",
      " 11  is_retained          1856 non-null   object        \n",
      " 12  DoW                  1856 non-null   float64       \n",
      "dtypes: datetime64[ns](3), float64(1), object(9)\n",
      "memory usage: 1019.5+ KB\n"
     ]
    }
   ],
   "source": []
  },
  {
   "cell_type": "markdown",
   "id": "eb7c1831",
   "metadata": {},
   "source": [
    "### Daily marketing reach by channel"
   ]
  },
  {
   "cell_type": "code",
   "execution_count": 28,
   "id": "ecdeada7",
   "metadata": {},
   "outputs": [
    {
     "name": "stdout",
     "output_type": "stream",
     "text": [
      "date_served\n",
      "2018-01-01    362\n",
      "2018-01-02    374\n",
      "2018-01-03    348\n",
      "2018-01-04    323\n",
      "2018-01-05    319\n",
      "2018-01-06    308\n",
      "2018-01-07    275\n",
      "2018-01-08    312\n",
      "2018-01-09    312\n",
      "2018-01-10    337\n",
      "2018-01-11    310\n",
      "2018-01-12    301\n",
      "2018-01-13    306\n",
      "2018-01-14    305\n",
      "2018-01-15    767\n",
      "2018-01-16    388\n",
      "2018-01-17    369\n",
      "2018-01-18    318\n",
      "2018-01-19    305\n",
      "2018-01-20    311\n",
      "2018-01-21    229\n",
      "2018-01-22    178\n",
      "2018-01-23    172\n",
      "2018-01-24    190\n",
      "2018-01-25    184\n",
      "2018-01-26    222\n",
      "2018-01-27    320\n",
      "2018-01-28    320\n",
      "2018-01-29    319\n",
      "2018-01-30    317\n",
      "2018-01-31    340\n",
      "Name: user_id, dtype: int64\n"
     ]
    }
   ],
   "source": [
    "# how many users are seeing the marketing assets each day\n",
    "daily_users = marketing.groupby(['date_served'])['user_id'].nunique()\n",
    "#daily_users_sorted = daily_users.sort_values(ascending=False)\n",
    "print(daily_users)"
   ]
  },
  {
   "cell_type": "markdown",
   "id": "1b008e4f",
   "metadata": {},
   "source": [
    "#### Visualizing daily marketing reach"
   ]
  },
  {
   "cell_type": "code",
   "execution_count": 29,
   "id": "2d438298",
   "metadata": {},
   "outputs": [
    {
     "data": {
      "image/png": "[encoded data removed]",
      "text/plain": [
       "<Figure size 432x288 with 1 Axes>"
      ]
     },
     "metadata": {
      "needs_background": "light"
     },
     "output_type": "display_data"
    }
   ],
   "source": [
    "# Plot\n",
    "daily_users.plot()\n",
    "\n",
    "# Annotate\n",
    "plt.title('Daily number of users who see ads')\n",
    "plt.xlabel('Date')\n",
    "plt.ylabel('Number of Users')\n",
    "plt.xticks(rotation = 45)\n",
    "plt.show()"
   ]
  },
  {
   "cell_type": "markdown",
   "id": "3118e6dd",
   "metadata": {},
   "source": [
    "This spike may be due to the marketing email being sent in the middle of the month which resulted in attracting more users, who are not daily users of the site. These are the fluctuations we need to keep in mind before calculating metrics! "
   ]
  },
  {
   "cell_type": "markdown",
   "id": "45f41249",
   "metadata": {},
   "source": [
    "#### Exploratory Analysis - Introduction to common marketing metrics"
   ]
  },
  {
   "cell_type": "markdown",
   "id": "e036f0a5",
   "metadata": {},
   "source": [
    "##### Conversion rate\n",
    "percentage of the users who saw our marketing assets and subsequently became subscribers"
   ]
  },
  {
   "cell_type": "code",
   "execution_count": 40,
   "id": "9bda19a3",
   "metadata": {},
   "outputs": [
    {
     "name": "stdout",
     "output_type": "stream",
     "text": [
      "total: 7309\n",
      "subscribers: 1015\n",
      "13.89 %\n"
     ]
    }
   ],
   "source": [
    "# Calculate the number of people we marketed to\n",
    "total = marketing['user_id'].nunique()\n",
    "\n",
    "# Calculate the number of people who subscribed\n",
    "subscribers = marketing[marketing['converted'] == True]['user_id'].nunique()\n",
    "\n",
    "# Calculate the conversion rate\n",
    "conv_rate = subscribers/total\n",
    "\n",
    "print('total:',total)\n",
    "print('subscribers:',subscribers)\n",
    "print(round(conv_rate*100, 2),'%')"
   ]
  },
  {
   "cell_type": "markdown",
   "id": "340bbec5",
   "metadata": {},
   "source": [
    "##### Retention Rate"
   ]
  },
  {
   "cell_type": "markdown",
   "id": "2c3442e1",
   "metadata": {},
   "source": [
    "The percentage of customers who continue paying for a product over a given timeframe. This can give you a sense of whether your marketing campaign converted subscribers who were actually interested in the product."
   ]
  },
  {
   "cell_type": "code",
   "execution_count": 52,
   "id": "fdaf9a2c",
   "metadata": {},
   "outputs": [
    {
     "name": "stdout",
     "output_type": "stream",
     "text": [
      "total subs: 1030\n",
      "Retained: 6967\n",
      "Retention rate: 676.41 %\n"
     ]
    }
   ],
   "source": [
    "#Calculate the number of subscribers\n",
    "total_subscribers = marketing[marketing[\"converted\"] == 1]['user_id'].nunique()\n",
    "\n",
    "# Calculate the number of people who remained subscribed\n",
    "retained = marketing[marketing['is_retained'] == 1]['user_id'].nunique()\n",
    "\n",
    "# Calculate the retention rate\n",
    "retention_rate = retained/total_subscribers\n",
    "\n",
    "print('total subs:', total_subscribers)\n",
    "print('Retained:',retained)\n",
    "print('Retention rate:',round(retention_rate*100, 2), \"%\")"
   ]
  },
  {
   "cell_type": "code",
   "execution_count": 55,
   "id": "59b6fb87",
   "metadata": {},
   "outputs": [
    {
     "data": {
      "text/html": [
       "<div>\n",
       "<style scoped>\n",
       "    .dataframe tbody tr th:only-of-type {\n",
       "        vertical-align: middle;\n",
       "    }\n",
       "\n",
       "    .dataframe tbody tr th {\n",
       "        vertical-align: top;\n",
       "    }\n",
       "\n",
       "    .dataframe thead th {\n",
       "        text-align: right;\n",
       "    }\n",
       "</style>\n",
       "<table border=\"1\" class=\"dataframe\">\n",
       "  <thead>\n",
       "    <tr style=\"text-align: right;\">\n",
       "      <th></th>\n",
       "      <th>user_id</th>\n",
       "      <th>date_served</th>\n",
       "      <th>marketing_channel</th>\n",
       "      <th>variant</th>\n",
       "      <th>converted</th>\n",
       "      <th>language_displayed</th>\n",
       "      <th>language_preferred</th>\n",
       "      <th>age_group</th>\n",
       "      <th>date_subscribed</th>\n",
       "      <th>date_canceled</th>\n",
       "      <th>subscribing_channel</th>\n",
       "      <th>is_retained</th>\n",
       "    </tr>\n",
       "  </thead>\n",
       "  <tbody>\n",
       "    <tr>\n",
       "      <th>1815</th>\n",
       "      <td>a100000004</td>\n",
       "      <td>2018-01-01</td>\n",
       "      <td>House Ads</td>\n",
       "      <td>control</td>\n",
       "      <td>False</td>\n",
       "      <td>English</td>\n",
       "      <td>English</td>\n",
       "      <td>0-18 years</td>\n",
       "      <td>NaT</td>\n",
       "      <td>NaT</td>\n",
       "      <td>NaN</td>\n",
       "      <td>True</td>\n",
       "    </tr>\n",
       "  </tbody>\n",
       "</table>\n",
       "</div>"
      ],
      "text/plain": [
       "         user_id date_served marketing_channel  variant  converted  \\\n",
       "1815  a100000004  2018-01-01         House Ads  control      False   \n",
       "\n",
       "     language_displayed language_preferred   age_group date_subscribed  \\\n",
       "1815            English            English  0-18 years             NaT   \n",
       "\n",
       "     date_canceled subscribing_channel  is_retained  \n",
       "1815           NaT                 NaN         True  "
      ]
     },
     "execution_count": 55,
     "metadata": {},
     "output_type": "execute_result"
    }
   ],
   "source": [
    "marketing[marketing['user_id'] == 'a100000004']"
   ]
  },
  {
   "cell_type": "code",
   "execution_count": 43,
   "id": "2d2a46a6",
   "metadata": {},
   "outputs": [
    {
     "data": {
      "text/plain": [
       "False"
      ]
     },
     "execution_count": 43,
     "metadata": {},
     "output_type": "execute_result"
    }
   ],
   "source": [
    "None == False"
   ]
  },
  {
   "cell_type": "code",
   "execution_count": null,
   "id": "9f810be5",
   "metadata": {},
   "outputs": [],
   "source": []
  }
 ],
 "metadata": {
  "kernelspec": {
   "display_name": "Python 3 (ipykernel)",
   "language": "python",
   "name": "python3"
  },
  "language_info": {
   "codemirror_mode": {
    "name": "ipython",
    "version": 3
   },
   "file_extension": ".py",
   "mimetype": "text/x-python",
   "name": "python",
   "nbconvert_exporter": "python",
   "pygments_lexer": "ipython3",
   "version": "3.9.7"
  }
 },
 "nbformat": 4,
 "nbformat_minor": 5
}
